{
 "cells": [
  {
   "cell_type": "code",
   "execution_count": 1,
   "metadata": {},
   "outputs": [],
   "source": [
    "import os.path, csv\n",
    "import numpy as np\n",
    "import matplotlib.pyplot as plt\n",
    "from ipywidgets import interact, interactive, fixed, interact_manual\n",
    "from collections import namedtuple\n",
    "\n",
    "DistributionRow = namedtuple(\"DistributionRow\", [\n",
    "    \"name\", \"requests\", \"p50\", \"p66\", \"p75\", \"p80\", \"p90\", \"p95\", \"p98\", \"p99\", \"p100\"\n",
    "])\n",
    "RequestsRow = namedtuple(\"RequestsRow\", [\n",
    "    \"method\", \"name\", \"requests\", \"failures\", \"p50\", \"mean\", \"min\", \"max\", \"avg_content_size\", \"rps\"\n",
    "])\n",
    "TestRun = namedtuple(\"TestRun\", [\n",
    "    \"nthreads\", \"distribution\", \"requests\"\n",
    "])\n",
    "TestCollection = namedtuple(\"TestCollection\", [\n",
    "    \"name\", \"runs\"\n",
    "])\n",
    "\n",
    "def read_csv(filename):\n",
    "    with open(filename) as inf:\n",
    "        inf.readline()\n",
    "        return [l for l in csv.reader(inf)]\n",
    "\n",
    "def load_requests(filename):\n",
    "    result = []\n",
    "    for row in read_csv(filename):\n",
    "        method, name, *xs = row\n",
    "        result.append(RequestsRow(*([method, name] + [float(c) for c in xs])))\n",
    "    return result\n",
    "\n",
    "def load_distribution(filename):\n",
    "    result = []\n",
    "    for row in read_csv(filename):\n",
    "        name, *xs = row\n",
    "        result.append(DistributionRow(*([name] + [float(c) for c in xs])))\n",
    "    return result\n",
    "\n",
    "def load_test_collection(name, basedir):\n",
    "    runs = []\n",
    "    for run_name in os.listdir(basedir):\n",
    "        run_dir = os.path.join(basedir, run_name)\n",
    "        dist_file = os.path.join(run_dir, \"locust_distribution.csv\")\n",
    "        req_file = os.path.join(run_dir, \"locust_requests.csv\")\n",
    "        if not (os.path.isdir(run_dir) and os.path.isfile(dist_file) and os.path.isfile(req_file)):\n",
    "            continue\n",
    "        distribution = load_distribution(dist_file)\n",
    "        requests = load_requests(req_file)\n",
    "        runs.append(TestRun(int(run_name), distribution, requests))\n",
    "    return TestCollection(name, list(sorted(runs)))\n",
    "\n",
    "TESTS = {}\n",
    "ALL_THREADCOUNTS = set()\n",
    "for name in os.listdir(\"csv\"):\n",
    "    basedir = os.path.join(\"csv\", name)\n",
    "    if not os.path.isdir(basedir):\n",
    "        print(\"not a directory.\")\n",
    "        continue\n",
    "    tc = load_test_collection(name, basedir)\n",
    "    if tc and tc.runs:\n",
    "        TESTS[name] = tc\n",
    "        ALL_THREADCOUNTS |= {r.nthreads for r in tc.runs}"
   ]
  },
  {
   "cell_type": "code",
   "execution_count": 2,
   "metadata": {},
   "outputs": [
    {
     "data": {
      "application/vnd.jupyter.widget-view+json": {
       "model_id": "742ad0d738224be99ff3d5aeb6e69496",
       "version_major": 2,
       "version_minor": 0
      },
      "text/plain": [
       "interactive(children=(Dropdown(description='testcase', options=('rust-jkrafczyk', 'rust-danielr'), value='rust…"
      ]
     },
     "metadata": {},
     "output_type": "display_data"
    }
   ],
   "source": [
    "@interact\n",
    "def plot_stats_per_threadcount(testcase = TESTS.keys()):\n",
    "    tc = TESTS[testcase]\n",
    "    fig, axs = plt.subplots(3, 1, sharex=True)\n",
    "    plt.rcParams[\"figure.figsize\"] = (10,10)\n",
    "    axs[0].scatter([r.nthreads for r in tc.runs], [r.distribution[-1].p50 for r in tc.runs], label=\"Median Response time [ms]\")\n",
    "    axs[0].legend()\n",
    "    axs[1].scatter([r.nthreads for r in tc.runs], [r.requests[-1].rps for r in tc.runs], label=\"Req/s\")\n",
    "    axs[1].legend()\n",
    "    axs[2].scatter([r.nthreads for r in tc.runs], [r.requests[-1].failures*100 // r.requests[-1].requests for r in tc.runs], label=\"Failure%\")\n",
    "    axs[2].legend()\n",
    "    axs[2].set_ylim(0, 100)\n",
    "    plt.show()"
   ]
  },
  {
   "cell_type": "code",
   "execution_count": 3,
   "metadata": {},
   "outputs": [
    {
     "data": {
      "application/vnd.jupyter.widget-view+json": {
       "model_id": "a7896b2e2d3c4f8180119c86210c3ef6",
       "version_major": 2,
       "version_minor": 0
      },
      "text/plain": [
       "interactive(children=(Dropdown(description='threads', options=(50, 100, 200, 300, 500, 750, 1000), value=50), …"
      ]
     },
     "metadata": {},
     "output_type": "display_data"
    }
   ],
   "source": [
    "@interact\n",
    "def plot_comparison(threads = list(sorted(ALL_THREADCOUNTS)), field = [\"rps\", \"p50\", \"failures\"]):\n",
    "    runs = []\n",
    "    for tc in TESTS.values():\n",
    "        run = [r for r in tc.runs if r.nthreads == threads]\n",
    "        if not run:\n",
    "            continue\n",
    "        runs.append((tc.name, run[0]))\n",
    "    runs = list(sorted(runs))\n",
    "    \n",
    "    names = []\n",
    "    values = []\n",
    "    for (name, run) in runs:\n",
    "        if field == \"rps\":\n",
    "            v = run.requests[-1].rps\n",
    "        elif field == \"p50\":\n",
    "            v = run.requests[-1].p50\n",
    "        elif field == \"failures\":\n",
    "            v = 100 * run.requests[-1].failures / run.requests[-1].requests\n",
    "        else:\n",
    "            raise RuntimeError(\"Invalid field selected.\")\n",
    "        names.append(\"{}\\n{}\".format(name,v))\n",
    "        values.append(v)\n",
    "        \n",
    "\n",
    "    x = np.arange(len(names))\n",
    "    plt.bar(x, values)\n",
    "    plt.xticks(x, names)\n",
    "    plt.show()"
   ]
  }
 ],
 "metadata": {
  "kernelspec": {
   "display_name": "Python 3",
   "language": "python",
   "name": "python3"
  },
  "language_info": {
   "codemirror_mode": {
    "name": "ipython",
    "version": 3
   },
   "file_extension": ".py",
   "mimetype": "text/x-python",
   "name": "python",
   "nbconvert_exporter": "python",
   "pygments_lexer": "ipython3",
   "version": "3.7.3"
  }
 },
 "nbformat": 4,
 "nbformat_minor": 4
}
